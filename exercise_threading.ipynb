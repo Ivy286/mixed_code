{
 "cells": [
  {
   "cell_type": "code",
   "execution_count": 3,
   "metadata": {},
   "outputs": [
    {
     "name": "stdout",
     "output_type": "stream",
     "text": [
      "singing...0\n",
      "singing...1\n",
      "singing...2\n",
      "dancing...0\n",
      "dancing...1\n",
      "dancing...2\n"
     ]
    }
   ],
   "source": [
    "from time import sleep\n",
    "\n",
    "def sing():\n",
    "    for i in range(3):\n",
    "        print(\"singing...%d\"%i)\n",
    "        sleep(1)\n",
    "\n",
    "def dance():\n",
    "    for i in range(3):\n",
    "        print(\"dancing...%d\"%i)\n",
    "        sleep(1)\n",
    "\n",
    "if __name__ == '__main__':\n",
    "    sing() \n",
    "    dance()"
   ]
  },
  {
   "cell_type": "code",
   "execution_count": 4,
   "metadata": {},
   "outputs": [
    {
     "name": "stdout",
     "output_type": "stream",
     "text": [
      "----in work1--- [11, 22, 33, 44]\n",
      "----in work2--- [11, 22, 33, 44]\n"
     ]
    }
   ],
   "source": [
    "from threading import Thread\n",
    "import time\n",
    "\n",
    "def work1(nums):\n",
    "    nums.append(44)\n",
    "    print(\"----in work1---\",nums)\n",
    "\n",
    "\n",
    "def work2(nums):\n",
    "    time.sleep(1)\n",
    "    print(\"----in work2---\",nums)\n",
    "\n",
    "g_nums = [11,22,33]\n",
    "\n",
    "t1 = Thread(target=work1, args=(g_nums,))\n",
    "t1.start()\n",
    "\n",
    "t2 = Thread(target=work2, args=(g_nums,))\n",
    "t2.start()"
   ]
  },
  {
   "cell_type": "code",
   "execution_count": 6,
   "metadata": {},
   "outputs": [
    {
     "name": "stdout",
     "output_type": "stream",
     "text": [
      "---before creating g_num is 100---\n",
      "----in work1, g_num is 103---\n",
      "----in work2, g_num is 103---\n"
     ]
    }
   ],
   "source": [
    "from threading import Thread\n",
    "import time\n",
    "\n",
    "g_num = 100\n",
    "\n",
    "def work1():\n",
    "    global g_num\n",
    "    for i in range(3):\n",
    "        g_num += 1\n",
    "\n",
    "    print(\"----in work1, g_num is %d---\"%g_num)\n",
    "\n",
    "\n",
    "def work2():\n",
    "    global g_num\n",
    "    print(\"----in work2, g_num is %d---\"%g_num)\n",
    "\n",
    "\n",
    "print(\"---before creating g_num is %d---\"%g_num)\n",
    "\n",
    "t1 = Thread(target=work1)\n",
    "t1.start()\n",
    "\n",
    "# delay few time to make sure t1 is finished\n",
    "time.sleep(1)\n",
    "\n",
    "t2 = Thread(target=work2)\n",
    "t2.start()"
   ]
  },
  {
   "cell_type": "code",
   "execution_count": 16,
   "metadata": {},
   "outputs": [
    {
     "name": "stdout",
     "output_type": "stream",
     "text": [
      "hello word\n",
      "hello word\n",
      "hello word\n",
      "hello word\n",
      "hello word\n"
     ]
    }
   ],
   "source": [
    "#coding=utf-8\n",
    "import time\n",
    "\n",
    "def saySorry():\n",
    "    print(\"hello word\")\n",
    "    time.sleep(1)\n",
    "\n",
    "if __name__ == \"__main__\":\n",
    "    for i in range(5):\n",
    "        saySorry()"
   ]
  },
  {
   "cell_type": "code",
   "execution_count": 17,
   "metadata": {},
   "outputs": [
    {
     "name": "stdout",
     "output_type": "stream",
     "text": [
      "hello word\n",
      "hello word\n",
      "hello word\n",
      "hello word\n",
      "hello word\n"
     ]
    }
   ],
   "source": [
    "#coding=utf-8\n",
    "import threading\n",
    "import time\n",
    "\n",
    "def saySorry():\n",
    "    print(\"hello word\")\n",
    "    time.sleep(1)\n",
    "\n",
    "if __name__ == \"__main__\":\n",
    "    for i in range(5):\n",
    "        t = threading.Thread(target=saySorry)\n",
    "        t.start() #启动线程，即让线程开始执行"
   ]
  },
  {
   "cell_type": "code",
   "execution_count": 25,
   "metadata": {},
   "outputs": [
    {
     "name": "stdout",
     "output_type": "stream",
     "text": [
      "---start---:Wed Apr  4 22:48:32 2018\n",
      "singing...0\n",
      "dancing...0\n",
      "singing...1dancing...1\n",
      "\n",
      "singing...2dancing...2\n",
      "\n",
      "---end---:Wed Apr  4 22:48:37 2018\n"
     ]
    }
   ],
   "source": [
    "import threading\n",
    "from time import sleep, ctime\n",
    "\n",
    "def sing():\n",
    "    for i in range(3):\n",
    "        print('singing...%d'%i)\n",
    "        sleep(1)\n",
    "def dance():\n",
    "    for i in range(3):\n",
    "        print('dancing...%d'%i)\n",
    "        sleep(1)\n",
    "if __name__=='__main__':\n",
    "    print('---start---:%s'%ctime())\n",
    "    \n",
    "    t1 = threading.Thread(target=sing)\n",
    "    t2 = threading.Thread(target=dance)\n",
    "    \n",
    "    t1.start()\n",
    "    t2.start()\n",
    "    \n",
    "    sleep(5)\n",
    "    print('---end---:%s'%ctime())\n"
   ]
  },
  {
   "cell_type": "code",
   "execution_count": 30,
   "metadata": {
    "scrolled": true
   },
   "outputs": [
    {
     "name": "stdout",
     "output_type": "stream",
     "text": [
      "---to start---:Wed Apr  4 22:53:56 2018\n",
      "singing...0\n",
      "dancing...0num of running current threads：7\n",
      "\n",
      "num of running current threads：7\n",
      "singing...1dancing...1\n",
      "\n",
      "num of running current threads：7\n",
      "num of running current threads：7\n",
      "singing...2dancing...2num of running current threads：7\n",
      "\n",
      "\n",
      "num of running current threads：7\n",
      "num of running current threads：5\n"
     ]
    }
   ],
   "source": [
    "import threading\n",
    "from time import sleep,ctime\n",
    "\n",
    "def sing():\n",
    "    for i in range(3):\n",
    "        print(\"singing...%d\"%i)\n",
    "        sleep(1)\n",
    "\n",
    "def dance():\n",
    "    for i in range(3):\n",
    "        print(\"dancing...%d\"%i)\n",
    "        sleep(1)\n",
    "\n",
    "if __name__ == '__main__':\n",
    "    print('---to start---:%s'%ctime())\n",
    "\n",
    "    t1 = threading.Thread(target=sing)\n",
    "    t2 = threading.Thread(target=dance)\n",
    "\n",
    "    t1.start()\n",
    "    t2.start()\n",
    "\n",
    "    while True:\n",
    "        length = len(threading.enumerate())\n",
    "        print('num of running current threads：%d'%length)\n",
    "        if length<6:\n",
    "            break\n",
    "\n",
    "        sleep(0.5)"
   ]
  },
  {
   "cell_type": "code",
   "execution_count": 39,
   "metadata": {},
   "outputs": [
    {
     "name": "stdout",
     "output_type": "stream",
     "text": [
      "i am Thread-84@0\n",
      "i am Thread-83@0\n",
      "\n",
      "\n",
      "i am Thread-85@0\n",
      "\n",
      "i am Thread-84@1\n",
      "\n",
      "i am Thread-85@1\n",
      "i am Thread-83@1\n",
      "\n",
      "\n",
      "i am Thread-84@2\n",
      "i am Thread-85@2\n",
      "i am Thread-83@2\n",
      "\n",
      "\n",
      "\n"
     ]
    }
   ],
   "source": [
    "import threading\n",
    "import time\n",
    "\n",
    "class Mythread(threading.Thread):\n",
    "    def run(self):\n",
    "        for i in range(3):\n",
    "            time.sleep(1)\n",
    "            msg = 'i am ' + self.name + '@' + str(i) + '\\n'\n",
    "            print(msg)\n",
    "            \n",
    "def test():\n",
    "    for i in range(3):\n",
    "        t = Mythread()\n",
    "        t.start()\n",
    "            \n",
    "if __name__ == '__main__':\n",
    "    test()\n",
    "    "
   ]
  },
  {
   "cell_type": "code",
   "execution_count": null,
   "metadata": {
    "collapsed": true
   },
   "outputs": [],
   "source": [
    "import numpy as np\n",
    "from numpy.linalg import inv\n",
    "from numpy import dot\n",
    "from"
   ]
  }
 ],
 "metadata": {
  "kernelspec": {
   "display_name": "Python 3",
   "language": "python",
   "name": "python3"
  },
  "language_info": {
   "codemirror_mode": {
    "name": "ipython",
    "version": 3
   },
   "file_extension": ".py",
   "mimetype": "text/x-python",
   "name": "python",
   "nbconvert_exporter": "python",
   "pygments_lexer": "ipython3",
   "version": "3.6.3"
  }
 },
 "nbformat": 4,
 "nbformat_minor": 2
}
