{
 "cells": [
  {
   "cell_type": "code",
   "execution_count": 17,
   "metadata": {
    "collapsed": true
   },
   "outputs": [],
   "source": [
    "import pandas as pd\n",
    "import numpy as np\n",
    "import matplotlib.pyplot as plt"
   ]
  },
  {
   "cell_type": "code",
   "execution_count": 37,
   "metadata": {},
   "outputs": [
    {
     "name": "stdout",
     "output_type": "stream",
     "text": [
      "RET_VS_results_69m_190125_similarity\n"
     ]
    },
    {
     "name": "stderr",
     "output_type": "stream",
     "text": [
      "/home/xh/anaconda3/lib/python3.6/site-packages/matplotlib/pyplot.py:523: RuntimeWarning: More than 20 figures have been opened. Figures created through the pyplot interface (`matplotlib.pyplot.figure`) are retained until explicitly closed and may consume too much memory. (To control this warning, see the rcParam `figure.max_open_warning`).\n",
      "  max_open_warning, RuntimeWarning)\n"
     ]
    },
    {
     "name": "stdout",
     "output_type": "stream",
     "text": [
      "pat_550w_2Model_best_final_similarity\n",
      "RETi-201904_18_similarity\n",
      "ret_snd_3Model_best_final_similarity\n"
     ]
    }
   ],
   "source": [
    "import os\n",
    "import pylab as pl\n",
    "\n",
    "path = './tmp'\n",
    "csvs = os.listdir(path)\n",
    "\n",
    "for i, j in enumerate(csvs):\n",
    "    name = os.path.splitext(j)[0]\n",
    "    print(name)\n",
    "    df = pd.read_csv(os.path.join(path, j))\n",
    "    df.sort_values(by='similarity', ascending=False, inplace=True)\n",
    "#     print(df.head())\n",
    "    simi = df['similarity']\n",
    "    ids = df['ID']\n",
    "    index = np.arange(len(ids))\n",
    "    plt.figure(figsize=(20,6))\n",
    "    plt.subplots_adjust(left=0.05, bottom=0.25, right=0.98, top=0.93, hspace=0.2, wspace=0.3)\n",
    "    plt.bar(index, simi, alpha=0.9, width=0.4, label='similarity', lw=1)\n",
    "    plt.title(name, fontproperties='Times New Roman', fontsize=20)\n",
    "    plt.grid(ls='--')\n",
    "    plt.xticks(index, ids, rotation=90, fontproperties='Times New Roman', fontsize=14)\n",
    "    plt.yticks(fontproperties='Times New Roman', fontsize=14)\n",
    "    plt.ylabel('Similarity', fontproperties='Times New Roman', fontsize=16)\n",
    "    plt.ylim(0, 1.0)\n",
    "    plt.savefig('./' + str(name) + '.png', dpi=100)\n",
    "    plt.clf()"
   ]
  },
  {
   "cell_type": "code",
   "execution_count": null,
   "metadata": {
    "collapsed": true
   },
   "outputs": [],
   "source": []
  }
 ],
 "metadata": {
  "kernelspec": {
   "display_name": "Python 3",
   "language": "python",
   "name": "python3"
  },
  "language_info": {
   "codemirror_mode": {
    "name": "ipython",
    "version": 3
   },
   "file_extension": ".py",
   "mimetype": "text/x-python",
   "name": "python",
   "nbconvert_exporter": "python",
   "pygments_lexer": "ipython3",
   "version": "3.6.3"
  }
 },
 "nbformat": 4,
 "nbformat_minor": 2
}
